{
 "cells": [
  {
   "cell_type": "code",
   "execution_count": 1,
   "metadata": {},
   "outputs": [],
   "source": [
    "from random import shuffle\n",
    "\n",
    "class Card:\n",
    "    \"\"\"\n",
    "    Card class, is used by the Deck class to create individual card objects\n",
    "    to populate a created Deck object.\n",
    "    \"\"\" \n",
    "    def __init__(self, suit, rank):\n",
    "        values = {\n",
    "        'Two': 2, 'Three': 3, 'Four': 4, 'Five': 5, 'Six': 6, 'Seven': 7,\n",
    "        'Eight': 8, 'Nine': 9, 'Ten': 10, 'Jack': 10, 'Queen': 10, 'King': 10,\n",
    "        'Ace': 11\n",
    "        }\n",
    "        self.suit = suit\n",
    "        self.rank = rank\n",
    "        self.value = values[rank]\n",
    "\n",
    "    def __str__(self):\n",
    "        return self.rank + \" of \" + self.suit\n",
    "\n",
    "\n",
    "class Deck:\n",
    "    \"\"\"Creates an instance of a Deck object containing 52 instances of Card\n",
    "    class by looping through the rank list for each suit in the suit list\n",
    "    \"\"\"\n",
    "    def __init__(self) -> None:\n",
    "        self.cards = []\n",
    "        suits = ('Hearts', 'Diamonds', 'Spades', 'Clubs')\n",
    "        ranks = (\n",
    "            'Two', 'Three', 'Four', 'Five', 'Six', 'Seven','Eight', 'Nine',\n",
    "            'Ten', 'Jack', 'Queen', 'King', 'Ace'\n",
    "            )\n",
    "\n",
    "        for suit in suits:\n",
    "            for rank in ranks:\n",
    "                new_card = Card(suit, rank)\n",
    "                self.cards.append(new_card)\n",
    "        \n",
    "        shuffle(self.cards)\n",
    "\n",
    "    def draw_card(self) -> Card:\n",
    "        return self.cards.pop()\n",
    "\n",
    "\n",
    "class Player:\n",
    "    \"\"\"\n",
    "    Takes in a passed in name, and initializes a player object with a starting\n",
    "    balance of $100.00, and an empty hand.\n",
    "    \"\"\"\n",
    "    def __init__(self, name, balance=0) -> None:\n",
    "        self.name = name\n",
    "        self.stand = False\n",
    "        self.bust = False\n",
    "        self.blackjack = False\n",
    "        self._bet = None\n",
    "        self._balance = balance\n",
    "        self._hand = []\n",
    "    \n",
    "    def __int__(self) -> list:\n",
    "        return sum(self.hand)\n",
    "\n",
    "    def show_hand(self) -> str:\n",
    "        hand_list = []\n",
    "        for card in self._hand:\n",
    "            hand_list.append(str(card))\n",
    "        return ', '.join(hand_list)    \n",
    "    \n",
    "    def hand_value(self) -> int:\n",
    "        self.value = 0\n",
    "        for card in self.hand:\n",
    "            if card.value == 11:\n",
    "                if self.value + card.value > 21:\n",
    "                    self.value += 11\n",
    "                else: self.value += 1\n",
    "            else:\n",
    "                self.value += card.value\n",
    "        return self.value\n",
    "        \n",
    "    def __str__(self):\n",
    "        cards_list = [str(card) for card in self._hand]\n",
    "        return ', '.self.hand.join()\n",
    "        \n",
    "\n",
    "    @property\n",
    "    def hand(self):\n",
    "        return self._hand\n",
    "\n",
    "    @hand.setter\n",
    "    def hand(self, card):\n",
    "        self._hand.append(card)\n",
    "\n",
    "    @hand.getter\n",
    "    def hand(self):\n",
    "        return self._hand\n",
    "    \n",
    "    @hand.deleter\n",
    "    def hand(self):\n",
    "        del self._hand\n",
    "\n",
    "    @property\n",
    "    def bet(self):\n",
    "        return self._bet\n",
    "\n",
    "    @bet.setter\n",
    "    def bet(self, value):\n",
    "        \"\"\"If bet is greater than player balance, an error is thrown\"\"\"\n",
    "        if value > self._balance:\n",
    "            raise ValueError(\"Insufficient Balance\")\n",
    "        else:\n",
    "            self._balance = self.balance - value\n",
    "            self._bet = value\n",
    "\n",
    "    @bet.deleter\n",
    "    def bet(self):\n",
    "        del self._bet\n",
    "\n",
    "    @property\n",
    "    def balance(self):\n",
    "        return self._balance\n",
    "\n",
    "    @balance.setter\n",
    "    def balance(self, amount):\n",
    "        self._balance = amount\n",
    "\n",
    "    @balance.deleter\n",
    "    def balance(self):\n",
    "        del self._balance"
   ]
  },
  {
   "cell_type": "code",
   "execution_count": 2,
   "metadata": {},
   "outputs": [],
   "source": [
    "from shutil import get_terminal_size\n",
    "from os import system\n",
    "from time import sleep\n",
    "from classes import *\n",
    "\n",
    "# Global Variables\n",
    "players = {'dealer':Player('dealer')} #Initialize players dict with dealer.\n",
    "\n",
    "header = {\n",
    "    # Just for me to keep track my versions.\n",
    "    'title':   'Blackjack',\n",
    "    'tag1':    'Written by Maxime Langlois-Morin.',\n",
    "    'tag2':    'Milestone Project 2 - 2022 Complete Python Bootcamp From Zero to Hero in Python by Pieran Data',\n",
    "    'version': '0.0.1',\n",
    "    'date':    'January 14th 2022'\n",
    "            }\n",
    "\n",
    "def clear_output():\n",
    "    system('clear')\n",
    "\n",
    "def draw_header():\n",
    "    clear_output()\n",
    "    print(f\"{header['title']}\\n{header['tag1']}\\n{header['tag2']}\\n{header['version']} - {header['date']}\\n\" + \"-\" * get_terminal_size() +\"\\n\\n\\n\\n\\n\")\n",
    "\n",
    "def draw_cards(num,deck,player) -> None:\n",
    "    \n",
    "    for i in range(num):\n",
    "        player.hand.append(deck.cards.pop())\n",
    "        \n",
    "    print(f'{num} cards dealt to {player.name}.')\n",
    "\n",
    "def initial_draw(players):\n",
    "    \"\"\"Runs through the process of dealing initial cards to all players.\n",
    "    Deals 1 card to player 1 through to the last player, then one to the dealer.\n",
    "    Repeats process again from player 1 onwards for second card.\n",
    "\n",
    "    For loop below calls range with the stop number being the length of the\n",
    "    player list, which is exclusive of the last number - which is fine because\n",
    "    dealer is ignored.\n",
    "    \"\"\"\n",
    "    cards_dealt = 0\n",
    "    while cards_dealt <2:\n",
    "        for x in range(len(1,players)):\n",
    "            pass\n",
    "            \n",
    "def hand_total(player):\n",
    "    hand_value = 0\n",
    "    for card in player.hand:\n",
    "        if card.value == 11:\n",
    "            if hand_value + card.value > 21:\n",
    "                hand_value += 11\n",
    "            else: hand_value += 1\n",
    "        else:\n",
    "            hand_value += card.value\n",
    "    return hand_value\n",
    "\n",
    "def init_players():\n",
    "    \"\"\"Initializes players, based in user input.\"\"\"\n",
    "    global players\n",
    "    balance = None\n",
    "\n",
    "    while True:\n",
    "        balance = input(\"Enter a starting balance amount between $100 and $1000\\n>\")\n",
    "        try:\n",
    "            balance = int(balance)\n",
    "        except ValueError:\n",
    "            print('Invalid entry, a number between $100 and $1000 only.')\n",
    "            continue\n",
    "        if 100 <= balance <= 10000:\n",
    "            break\n",
    "        else:\n",
    "            print('Invalid entry, a number between $100 and $1000 only.')\n",
    "    while True:\n",
    "        num = input(\"How many players? Enter a number between 1 and 6\\n>\")\n",
    "        try:\n",
    "            num = int(num)\n",
    "        except ValueError:\n",
    "            print('Invalid entry, a number between 1 and 6 only.')\n",
    "            continue\n",
    "        if 1 <= num <= 6:\n",
    "            break\n",
    "        else:\n",
    "            print('6 players maximum only.')\n",
    "    \n",
    "    for x in range(1,num+1):\n",
    "        players[f'player_{x}'] = Player(input(f'Player {x}, enter your name:\\n>'),balance)\n",
    "    print(f'{num} players playing!')\n",
    "\n",
    "def place_bets():\n",
    "    for player in players:\n",
    "        if players[player].balance < 2:\n",
    "            continue\n",
    "        else:\n",
    "            bet = None\n",
    "            while True:\n",
    "                print('\\n')\n",
    "                bet = int(input(f'Player: {players[player].name}, place your bet\\n(Bets must be between $2 and $10)\\n>'))\n",
    "                try:\n",
    "                    players[player].bet = bet\n",
    "                except ValueError:\n",
    "                    print(f'\"{bet}\" is an invalid entry. Use numbers only, betwee 2 and 10.')\n",
    "                    continue\n",
    "                if 2 <= bet <= 10:\n",
    "                    try:\n",
    "                        players[player].bet(bet)\n",
    "                    except ValueError:\n",
    "                        print(f\"Insufficient funds, balance remaining: {players[player].balance}\")\n",
    "                        break\n",
    "                    finally:\n",
    "                        break\n",
    "                else:\n",
    "                    print(f'Try again, bet must be between $2 and $10.')"
   ]
  },
  {
   "cell_type": "code",
   "execution_count": 3,
   "metadata": {},
   "outputs": [
    {
     "name": "stdout",
     "output_type": "stream",
     "text": [
      "Invalid entry, a number between $100 and $1000 only.\n",
      "Invalid entry, a number between $100 and $1000 only.\n",
      "Invalid entry, a number between $100 and $1000 only.\n",
      "3 players playing!\n"
     ]
    }
   ],
   "source": [
    "init_players()"
   ]
  },
  {
   "cell_type": "code",
   "execution_count": 4,
   "metadata": {},
   "outputs": [],
   "source": [
    "game_deck = Deck()"
   ]
  },
  {
   "cell_type": "code",
   "execution_count": 5,
   "metadata": {},
   "outputs": [
    {
     "name": "stdout",
     "output_type": "stream",
     "text": [
      "dealer\n",
      "M\n",
      "A\n",
      "S\n"
     ]
    }
   ],
   "source": [
    "players['dealer'].balance\n",
    "for x in players:\n",
    "    print(players[x].name)"
   ]
  },
  {
   "cell_type": "code",
   "execution_count": 7,
   "metadata": {},
   "outputs": [],
   "source": [
    "players['player_1'].hand = game_deck.draw_card()"
   ]
  },
  {
   "cell_type": "code",
   "execution_count": 9,
   "metadata": {},
   "outputs": [
    {
     "data": {
      "text/plain": [
       "15"
      ]
     },
     "execution_count": 9,
     "metadata": {},
     "output_type": "execute_result"
    }
   ],
   "source": [
    "players['player_1'].hand_value()"
   ]
  },
  {
   "cell_type": "code",
   "execution_count": 10,
   "metadata": {},
   "outputs": [
    {
     "data": {
      "text/plain": [
       "'Jack of Clubs, Five of Diamonds'"
      ]
     },
     "execution_count": 10,
     "metadata": {},
     "output_type": "execute_result"
    }
   ],
   "source": [
    "players['player_1'].show_hand()"
   ]
  },
  {
   "cell_type": "code",
   "execution_count": 17,
   "metadata": {},
   "outputs": [
    {
     "data": {
      "text/plain": [
       "0"
      ]
     },
     "execution_count": 17,
     "metadata": {},
     "output_type": "execute_result"
    }
   ],
   "source": [
    "players['player_1'].hand_value()"
   ]
  },
  {
   "cell_type": "code",
   "execution_count": null,
   "metadata": {},
   "outputs": [],
   "source": [
    "place_bets()"
   ]
  },
  {
   "cell_type": "code",
   "execution_count": 10,
   "metadata": {},
   "outputs": [
    {
     "data": {
      "text/plain": [
       "10"
      ]
     },
     "execution_count": 10,
     "metadata": {},
     "output_type": "execute_result"
    }
   ],
   "source": [
    "players['player_1'].bet"
   ]
  },
  {
   "cell_type": "code",
   "execution_count": 14,
   "metadata": {},
   "outputs": [
    {
     "data": {
      "text/plain": [
       "dict_values([<classes.Player object at 0x110948190>, <classes.Player object at 0x1108e88b0>, <classes.Player object at 0x1108e8070>, <classes.Player object at 0x1108eafe0>])"
      ]
     },
     "execution_count": 14,
     "metadata": {},
     "output_type": "execute_result"
    }
   ],
   "source": [
    "players.values()"
   ]
  },
  {
   "cell_type": "code",
   "execution_count": null,
   "metadata": {},
   "outputs": [],
   "source": [
    "for player in players.values():\n",
    "    print(f'{player.name}:\\nBet: ${player.bet}\\nRemaining: ${player.balance}')"
   ]
  },
  {
   "cell_type": "code",
   "execution_count": 18,
   "metadata": {},
   "outputs": [
    {
     "name": "stdout",
     "output_type": "stream",
     "text": [
      "Max has a blackjack!\n",
      "Jack has a blackjack!\n",
      "Solo has a blackjack!\n"
     ]
    }
   ],
   "source": [
    "for x in range(1,len(players)):\n",
    "    print(f'{players[f\"player_{x}\"].name} has a blackjack!')"
   ]
  }
 ],
 "metadata": {
  "interpreter": {
   "hash": "aee8b7b246df8f9039afb4144a1f6fd8d2ca17a180786b69acc140d282b71a49"
  },
  "kernelspec": {
   "display_name": "Python 3.10.1 64-bit",
   "language": "python",
   "name": "python3"
  },
  "language_info": {
   "codemirror_mode": {
    "name": "ipython",
    "version": 3
   },
   "file_extension": ".py",
   "mimetype": "text/x-python",
   "name": "python",
   "nbconvert_exporter": "python",
   "pygments_lexer": "ipython3",
   "version": "3.10.1"
  },
  "orig_nbformat": 4
 },
 "nbformat": 4,
 "nbformat_minor": 2
}
