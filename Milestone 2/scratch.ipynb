{
 "cells": [
  {
   "cell_type": "code",
   "execution_count": 14,
   "metadata": {},
   "outputs": [],
   "source": [
    "from random import shuffle"
   ]
  },
  {
   "cell_type": "code",
   "execution_count": 52,
   "metadata": {},
   "outputs": [],
   "source": [
    "class Card:\n",
    "    \"\"\"\n",
    "    Card class, is used by the Deck class to create individual card objects\n",
    "    to populate a created Deck object.\n",
    "    \"\"\" \n",
    "    def __init__(self, suit, rank):\n",
    "        values = {\n",
    "        'Two': 2, 'Three': 3, 'Four': 4, 'Five': 5, 'Six': 6, 'Seven': 7,\n",
    "        'Eight': 8, 'Nine': 9, 'Ten': 10, 'Jack': 10, 'Queen': 10, 'King': 10,\n",
    "        'Ace': 11\n",
    "        }\n",
    "        self.suit = suit\n",
    "        self.rank = rank\n",
    "        self.value = values[rank]\n",
    "\n",
    "    def __str__(self):\n",
    "        return self.rank + \" of \" + self.suit\n",
    "\n",
    "\n",
    "class Deck:\n",
    "    \"\"\"Creates an instance of a Deck object containing 52 instances of Card\n",
    "    class by looping through the rank list for each suit in the suit list\n",
    "    \"\"\"\n",
    "    def __init__(self):\n",
    "        self.cards = []\n",
    "        suits = ('Hearts', 'Diamonds', 'Spades', 'Clubs')\n",
    "        ranks = (\n",
    "            'Two', 'Three', 'Four', 'Five', 'Six', 'Seven','Eight', 'Nine',\n",
    "            'Ten', 'Jack', 'Queen', 'King', 'Ace'\n",
    "            )\n",
    "\n",
    "        for suit in suits:\n",
    "            for rank in ranks:\n",
    "                new_card = Card(suit, rank)\n",
    "                self.cards.append(new_card)\n",
    "        \n",
    "        shuffle(self.cards)\n",
    "\n",
    "\n",
    "class Player:\n",
    "    \"\"\"\n",
    "    Takes in a passed in name, and initializes a player object with a starting\n",
    "    balance of $100.00, and an empty hand.\n",
    "    \"\"\"\n",
    "    def __init__(self,name) -> str:\n",
    "        self.name = name\n",
    "        self.balance = 100.00\n",
    "        self.hand = []\n",
    "    \n",
    "    def __int__(self):\n",
    "        return sum(self.hand)\n",
    "\n",
    "\n",
    "class Dealer:\n",
    "    \"\"\"\n",
    "    Creates a dealer class, to house the dealers hand.  Not certain this\n",
    "    is 100% necessary, hand could be a variable in the main loop...\n",
    "    \"\"\"\n",
    "    def __init__(self):\n",
    "        self.hand = []\n",
    "        self.name = 'the dealer'"
   ]
  },
  {
   "cell_type": "code",
   "execution_count": 53,
   "metadata": {},
   "outputs": [],
   "source": [
    "def draw_cards(num,deck,player):\n",
    "    \n",
    "    for i in range(num):\n",
    "        player.hand.append(deck.cards.pop())\n",
    "        \n",
    "    print(f'{num} cards dealt to {player.name}.')"
   ]
  },
  {
   "cell_type": "code",
   "execution_count": 66,
   "metadata": {},
   "outputs": [],
   "source": [
    "def hand_total(player):\n",
    "    hand_value = 0\n",
    "    for card in player1.hand:\n",
    "        if card.value == 11:\n",
    "            if hand_value + card.value > 21:\n",
    "                hand_value += 11\n",
    "            else: hand_value += 1\n",
    "        else:\n",
    "            hand_value += card.value\n",
    "    return hand_value\n"
   ]
  }
 ],
 "metadata": {
  "interpreter": {
   "hash": "aee8b7b246df8f9039afb4144a1f6fd8d2ca17a180786b69acc140d282b71a49"
  },
  "kernelspec": {
   "display_name": "Python 3.10.1 64-bit",
   "language": "python",
   "name": "python3"
  },
  "language_info": {
   "codemirror_mode": {
    "name": "ipython",
    "version": 3
   },
   "file_extension": ".py",
   "mimetype": "text/x-python",
   "name": "python",
   "nbconvert_exporter": "python",
   "pygments_lexer": "ipython3",
   "version": "3.10.1"
  },
  "orig_nbformat": 4
 },
 "nbformat": 4,
 "nbformat_minor": 2
}
